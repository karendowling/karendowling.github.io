{
  "metadata": {
    "kernelspec": {
      "name": "python",
      "display_name": "Python (Pyodide)",
      "language": "python"
    },
    "language_info": {
      "codemirror_mode": {
        "name": "python",
        "version": 3
      },
      "file_extension": ".py",
      "mimetype": "text/x-python",
      "name": "python",
      "nbconvert_exporter": "python",
      "pygments_lexer": "ipython3",
      "version": "3.8"
    }
  },
  "nbformat_minor": 4,
  "nbformat": 4,
  "cells": [
    {
      "cell_type": "markdown",
      "source": "# Publications markdown generator for academicpages\n\nTakes a TSV of publications with metadata and converts them for use with [academicpages.github.io](academicpages.github.io). This is an interactive Jupyter notebook ([see more info here](http://jupyter-notebook-beginner-guide.readthedocs.io/en/latest/what_is_jupyter.html)). The core python code is also in `publications.py`. Run either from the `markdown_generator` folder after replacing `publications.tsv` with one containing your data.\n\nTODO: Make this work with BibTex and other databases of citations, rather than Stuart's non-standard TSV format and citation style.\n",
      "metadata": {
        "deletable": true,
        "editable": true
      }
    },
    {
      "cell_type": "markdown",
      "source": "## Data format\n\nThe TSV needs to have the following columns: pub_date, title, venue, excerpt, citation, site_url, and paper_url, with a header at the top. \n\n- `excerpt` and `paper_url` can be blank, but the others must have values. \n- `pub_date` must be formatted as YYYY-MM-DD.\n- `url_slug` will be the descriptive part of the .md file and the permalink URL for the page about the paper. The .md file will be `YYYY-MM-DD-[url_slug].md` and the permalink will be `https://[yourdomain]/publications/YYYY-MM-DD-[url_slug]`\n\nThis is how the raw file looks (it doesn't look pretty, use a spreadsheet or other program to edit and create).",
      "metadata": {}
    },
    {
      "cell_type": "code",
      "source": "!cat publications.tsv",
      "metadata": {
        "collapsed": false,
        "jupyter": {
          "outputs_hidden": false
        },
        "trusted": true
      },
      "execution_count": 1,
      "outputs": [
        {
          "ename": "<class 'AttributeError'>",
          "evalue": "module 'pexpect' has no attribute 'TIMEOUT'",
          "traceback": [
            "\u001b[0;31m---------------------------------------------------------------------------\u001b[0m",
            "\u001b[0;31mAttributeError\u001b[0m                            Traceback (most recent call last)",
            "Cell \u001b[0;32mIn [1], line 1\u001b[0m\n\u001b[0;32m----> 1\u001b[0m \u001b[43mget_ipython\u001b[49m\u001b[43m(\u001b[49m\u001b[43m)\u001b[49m\u001b[38;5;241;43m.\u001b[39;49m\u001b[43msystem\u001b[49m\u001b[43m(\u001b[49m\u001b[38;5;124;43m'\u001b[39;49m\u001b[38;5;124;43mcat publications.tsv\u001b[39;49m\u001b[38;5;124;43m'\u001b[39;49m\u001b[43m)\u001b[49m\n",
            "File \u001b[0;32m/lib/python3.10/site-packages/IPython/core/interactiveshell.py:2466\u001b[0m, in \u001b[0;36mInteractiveShell.system_piped\u001b[0;34m(self, cmd)\u001b[0m\n\u001b[1;32m   2461\u001b[0m     \u001b[38;5;28;01mraise\u001b[39;00m \u001b[38;5;167;01mOSError\u001b[39;00m(\u001b[38;5;124m\"\u001b[39m\u001b[38;5;124mBackground processes not supported.\u001b[39m\u001b[38;5;124m\"\u001b[39m)\n\u001b[1;32m   2463\u001b[0m \u001b[38;5;66;03m# we explicitly do NOT return the subprocess status code, because\u001b[39;00m\n\u001b[1;32m   2464\u001b[0m \u001b[38;5;66;03m# a non-None value would trigger :func:`sys.displayhook` calls.\u001b[39;00m\n\u001b[1;32m   2465\u001b[0m \u001b[38;5;66;03m# Instead, we store the exit_code in user_ns.\u001b[39;00m\n\u001b[0;32m-> 2466\u001b[0m \u001b[38;5;28mself\u001b[39m\u001b[38;5;241m.\u001b[39muser_ns[\u001b[38;5;124m'\u001b[39m\u001b[38;5;124m_exit_code\u001b[39m\u001b[38;5;124m'\u001b[39m] \u001b[38;5;241m=\u001b[39m \u001b[43msystem\u001b[49m\u001b[43m(\u001b[49m\u001b[38;5;28;43mself\u001b[39;49m\u001b[38;5;241;43m.\u001b[39;49m\u001b[43mvar_expand\u001b[49m\u001b[43m(\u001b[49m\u001b[43mcmd\u001b[49m\u001b[43m,\u001b[49m\u001b[43m \u001b[49m\u001b[43mdepth\u001b[49m\u001b[38;5;241;43m=\u001b[39;49m\u001b[38;5;241;43m1\u001b[39;49m\u001b[43m)\u001b[49m\u001b[43m)\u001b[49m\n",
            "File \u001b[0;32m/lib/python3.10/site-packages/IPython/utils/_process_posix.py:129\u001b[0m, in \u001b[0;36mProcessHandler.system\u001b[0;34m(self, cmd)\u001b[0m\n\u001b[1;32m    125\u001b[0m enc \u001b[38;5;241m=\u001b[39m DEFAULT_ENCODING\n\u001b[1;32m    127\u001b[0m \u001b[38;5;66;03m# Patterns to match on the output, for pexpect.  We read input and\u001b[39;00m\n\u001b[1;32m    128\u001b[0m \u001b[38;5;66;03m# allow either a short timeout or EOF\u001b[39;00m\n\u001b[0;32m--> 129\u001b[0m patterns \u001b[38;5;241m=\u001b[39m [\u001b[43mpexpect\u001b[49m\u001b[38;5;241;43m.\u001b[39;49m\u001b[43mTIMEOUT\u001b[49m, pexpect\u001b[38;5;241m.\u001b[39mEOF]\n\u001b[1;32m    130\u001b[0m \u001b[38;5;66;03m# the index of the EOF pattern in the list.\u001b[39;00m\n\u001b[1;32m    131\u001b[0m \u001b[38;5;66;03m# even though we know it's 1, this call means we don't have to worry if\u001b[39;00m\n\u001b[1;32m    132\u001b[0m \u001b[38;5;66;03m# we change the above list, and forget to change this value:\u001b[39;00m\n\u001b[1;32m    133\u001b[0m EOF_index \u001b[38;5;241m=\u001b[39m patterns\u001b[38;5;241m.\u001b[39mindex(pexpect\u001b[38;5;241m.\u001b[39mEOF)\n",
            "\u001b[0;31mAttributeError\u001b[0m: module 'pexpect' has no attribute 'TIMEOUT'"
          ],
          "output_type": "error"
        }
      ]
    },
    {
      "cell_type": "markdown",
      "source": "## Import pandas\n\nWe are using the very handy pandas library for dataframes.",
      "metadata": {}
    },
    {
      "cell_type": "code",
      "source": "import pandas as pd",
      "metadata": {
        "deletable": true,
        "editable": true,
        "trusted": true
      },
      "execution_count": 2,
      "outputs": []
    },
    {
      "cell_type": "markdown",
      "source": "## Import TSV\n\nPandas makes this easy with the read_csv function. We are using a TSV, so we specify the separator as a tab, or `\\t`.\n\nI found it important to put this data in a tab-separated values format, because there are a lot of commas in this kind of data and comma-separated values can get messed up. However, you can modify the import statement, as pandas also has read_excel(), read_json(), and others.",
      "metadata": {}
    },
    {
      "cell_type": "code",
      "source": "publications = pd.read_csv(\"publications.tsv\", sep=\"\\t\", header=0)\npublications\n",
      "metadata": {
        "collapsed": false,
        "deletable": true,
        "editable": true,
        "jupyter": {
          "outputs_hidden": false
        },
        "trusted": true
      },
      "execution_count": 3,
      "outputs": [
        {
          "execution_count": 3,
          "output_type": "execute_result",
          "data": {
            "text/plain": "      pub_date                                              title  \\\n0   2022-04-06  Design considerations for gallium arsenide pul...   \n1   2021-12-31  Pulse Compression Photoconductive Switching Us...   \n2   2021-12-15  A Prony-based curve-fitting method for charact...   \n3   2021-05-17  Monte Carlo transport analysis to assess inten...   \n4   2021-05-05  Design and simulation of near-terahertz GaN ph...   \n5   2020-08-11  Low Offset and Noise in High Biased GaN 2DEG H...   \n6   2020-01-29  Lithography and Etching?Free Microfabrication ...   \n7   2020-02-13  Sensitivity of 2DEG-based Hall-effect sensors ...   \n8   2019-05-15  Significant Phonon Drag Enables High Power Fac...   \n9   2019-02-07  Micro-Tesla Offset in Thermally Stable AlGaN/G...   \n10  2019-01-25  Effect of Geometry on Sensitivity and Offset o...   \n11  2018-08-24  Characterization of the piezoresistance in hig...   \n12  2018-07-10  Highly sensitive 4H-SiC pressure sensor at cry...   \n13  2018-06-19  Highly sensitive pressure sensors employing 3C...   \n14  2017-12-11  Graphene-enhanced gallium nitride ultraviolet ...   \n15  2017-03-28  Lithography-free microfabrication of AlGaN/GaN...   \n16  2017-06-22  InAlN/GaN high electron mobility micro-pressur...   \n17  2016-11-08  Profile Evolution of High Aspect Ratio Silicon...   \n18  2018-05-29  Piezoelectric 2DEG \"Metal\" Electrodes for High...   \n19  2020-10-05  Deployment of InAlN/GaN Hall-effect Sensors fo...   \n20  2018-06-03  The Effect of Bias Conditions on AlGaN/GaN 2DE...   \n21  2018-06-03  Temperature-Dependent Transient Behavior of Al...   \n22  2017-10-05  Rapid Prototyping Tape Stencils for the Applic...   \n23  2017-06-18  Low Temperature and Pressure Response of INAlN...   \n24  2017-01-22  High-Throughput pulse laser manufacturing etch...   \n25  2015-09-13  Low-Temperature Operation of Gallium Nitride B...   \n26  2015-07-05  Inductive Coupled Plasma Etching of High Aspec...   \n27  2015-01-18  Multilayer Etch Masks for 3-Dimensional Fabric...   \n28  2013-01-20  High Sensitivity, High Density Micro-Hydraulic...   \n\n                                                venue  excerpt  \\\n0                          Journal of Applied Physics      NaN   \n1               IEEE Transactions on Electron Devices      NaN   \n2                      IEEE Signal Processing Letters      NaN   \n3                          Journal of Applied Physics      NaN   \n4            IEEE Journal of Electron Devices Society      NaN   \n5      IEEE Journal of Microelectromechanical Systems      NaN   \n6                      Advanced Engineering Materials      NaN   \n7                    Review of Scientific Instruments      NaN   \n8                                    ACS Nano Letters      NaN   \n9                                IEEE Sensors Letters      NaN   \n10                               IEEE Sensors Journal      NaN   \n11                                       RSC Advances      NaN   \n12                                 Materials & Design      NaN   \n13                                 Materials & Design      NaN   \n14                            Applied Physics Letters      NaN   \n15                        Microelectronic Engineering      NaN   \n16                  Sensors and Actuators A: Physical      NaN   \n17     IEEE Journal of Microelectromechanical Systems      NaN   \n18                   Compound Semiconductor Week 2018      NaN   \n19                       IEEE Sensors Conference 2020      NaN   \n20  Solid-State Sensors, Actuators and Microsystem...      NaN   \n21  Solid-State Sensors, Actuators and Microsystem...      NaN   \n22  International Symposium on Microelectronics Pa...      NaN   \n23                        IEEE Transducers Conference      NaN   \n24                               IEEE MEMS Conference      NaN   \n25              AIAA SPACE Conferences and Exposition      NaN   \n26                                InterpackICNMM2015       NaN   \n27                               IEEE MEMS Conference      NaN   \n28                               IEEE MEMS Conference      NaN   \n\n                                             citation      url_slug  \\\n0   Dong, Y., Dowling, K.M., Hau-Riege, S., Conway...        PCSS_5   \n1   Dowling, K.M., Dong, Y., Hall, D., Mukherjee, ...        PCSS_4   \n2   Mukherjee, S. Dowling, K.M., Dong. Y, Li, K. C...        PCSS_3   \n3   Milestone, W., Guo, D., Sanati, M., Dowling, K...        PCSS_2   \n4   Rakheja, S. Li, K., Dowling, K.M., Conway, A.M...        PCSS_1   \n5   Dowling, K.M., Liu, T., Alpert, H.S., Chapin, ...        Hall_5   \n6   Nguyen, T.-K., Phan, H.-P., Dowling, K.M., Yal...    LaserCut_5   \n7   Alpert, H.S., Chapin, C.A., Dowling, K.M., Ben...        Hall_4   \n8   Yalamarthy, A.S., Muñoz Rojo, M., Bruefach, A....      Thermo_1   \n9   Dowling, K.M., Alpert, H.S., Yalamarthy, A.S.,...        Hall_3   \n10  Alpert, H.S., Dowling, K.M., Chapin, C.A., Yal...        Hall_2   \n11  Phan, H.-P., Dowling, K.M., Ngyuen, T.-K., Cha...    LaserCut_4   \n12  Ngyuyn, T.K., Phan, H.-P,, Dinh, T., Dowling, ...    LaserCut_3   \n13  Phan, H.-P., Dowling, K.M., Ngyuen, T.-K., Din...    LaserCut_2   \n14  Miller, R. A., So, H., Chiamori, H. C., Dowlin...     UVPhoto_1   \n15  Dowling, K.M., So, H., Toor, A., Chapin, C.A.,...    LaserCut_1   \n16  Chapin, C. A., Miller, R. A., Chen, R., Dowlin...    Pressure_1   \n17  Dowling, K.M., Ransom, E.H., Senesky, D.G., “P...  SiCmachine_3   \n18  Yalamarthy, A.S., Miller, R.A., Dowling, K.M.,...     UVPhoto_2   \n19  Janowitz, J., Holliday, M., Dowling, K., Yeung...        Hall_6   \n20  Dowling, K.M, Alpert, H.S., Zhang, P., Ramirez...        Hall_1   \n21  Chapin, C.A., Dowling, K.M., Phan, H.P., Chen,...    Pressure_3   \n22  Yang, M.X., Dowling, K., Senesky, D., and Wong...     Package_1   \n23  Chapin, C., Miller, R., Chen, R., Dowling, K.,...    Pressure_2   \n24  Ransom, E.H, Dowling, K.M., Rocca-Bejar, D., P...  SiCmachine_4   \n25  Miller, R., Chapin, C., Dowling, K., Chen, R.,...     UVPhoto_3   \n26  Dowling, K., Suria, A., Shankar, A., Lee, H., ...  Sicmachine_2   \n27  Dowling, K., Suria, A., Shankar, A., Chapin, C...  Sicmachine_1   \n28  Sadeghi, M.M., Dowling, K, Peterson, R.L., Naj...     Tactile_1   \n\n                                            paper_url    category  \n0                   https://doi.org/10.1063/5.0083672        PCSS  \n1            https://doi.org/10.1109/TED.2021.3136500        PCSS  \n2            https://doi.org/10.1109/LSP.2021.3135795        PCSS  \n3                   https://doi.org/10.1063/5.0040173        PCSS  \n4           https://doi.org/10.1109/JEDS.2021.3077761        PCSS  \n5          https://doi.org/10.1109/JMEMS.2020.3013187        Hall  \n6              https://doi.org/10.1002/adem.201901173    LaserCut  \n7                   https://doi.org/10.1063/1.5139911        Hall  \n8        https://doi.org/10.1021/acs.nanolett.9b00901      Thermo  \n9          https://doi.org/10.1109/LSENS.2019.2898157        Hall  \n10          https://doi.org/10.1109/JSEN.2019.2895546        Hall  \n11                 https://doi.org/10.1039/C8RA05797D    LaserCut  \n12       https://doi.org/10.1016/j.matdes.2018.07.014    LaserCut  \n13       https://doi.org/10.1016/j.matdes.2018.06.031    LaserCut  \n14                  https://doi.org/10.1063/1.5005797     UVPhoto  \n15          https://doi.org/10.1016/j.mee.2017.03.012    LaserCut  \n16          https://doi.org/10.1016/j.sna.2017.06.009    Pressure  \n17         https://doi.org/10.1109/JMEMS.2016.2621131  SiCmachine  \n18                                                NaN     UVPhoto  \n19  https://doi.org/10.1109/SENSORS47125.2020.9278866        Hall  \n20                                                NaN        Hall  \n21                                                NaN    Pressure  \n22                                                NaN     Package  \n23   https://doi.org/10.1109/TRANSDUCERS.2017.7994166    Pressure  \n24        https://doi.org/10.1109/MEMSYS.2017.7863497  SiCmachine  \n25                https://doi.org/10.2514/6.2016-5497     UVPhoto  \n26            https://doi.org/10.1115/IPACK2015-48409  Sicmachine  \n27        https://doi.org/10.1109/MEMSYS.2015.7050944  Sicmachine  \n28        https://doi.org/10.1109/MEMSYS.2013.6474332     Tactile  ",
            "text/html": "<div>\n<style scoped>\n    .dataframe tbody tr th:only-of-type {\n        vertical-align: middle;\n    }\n\n    .dataframe tbody tr th {\n        vertical-align: top;\n    }\n\n    .dataframe thead th {\n        text-align: right;\n    }\n</style>\n<table border=\"1\" class=\"dataframe\">\n  <thead>\n    <tr style=\"text-align: right;\">\n      <th></th>\n      <th>pub_date</th>\n      <th>title</th>\n      <th>venue</th>\n      <th>excerpt</th>\n      <th>citation</th>\n      <th>url_slug</th>\n      <th>paper_url</th>\n      <th>category</th>\n    </tr>\n  </thead>\n  <tbody>\n    <tr>\n      <th>0</th>\n      <td>2022-04-06</td>\n      <td>Design considerations for gallium arsenide pul...</td>\n      <td>Journal of Applied Physics</td>\n      <td>NaN</td>\n      <td>Dong, Y., Dowling, K.M., Hau-Riege, S., Conway...</td>\n      <td>PCSS_5</td>\n      <td>https://doi.org/10.1063/5.0083672</td>\n      <td>PCSS</td>\n    </tr>\n    <tr>\n      <th>1</th>\n      <td>2021-12-31</td>\n      <td>Pulse Compression Photoconductive Switching Us...</td>\n      <td>IEEE Transactions on Electron Devices</td>\n      <td>NaN</td>\n      <td>Dowling, K.M., Dong, Y., Hall, D., Mukherjee, ...</td>\n      <td>PCSS_4</td>\n      <td>https://doi.org/10.1109/TED.2021.3136500</td>\n      <td>PCSS</td>\n    </tr>\n    <tr>\n      <th>2</th>\n      <td>2021-12-15</td>\n      <td>A Prony-based curve-fitting method for charact...</td>\n      <td>IEEE Signal Processing Letters</td>\n      <td>NaN</td>\n      <td>Mukherjee, S. Dowling, K.M., Dong. Y, Li, K. C...</td>\n      <td>PCSS_3</td>\n      <td>https://doi.org/10.1109/LSP.2021.3135795</td>\n      <td>PCSS</td>\n    </tr>\n    <tr>\n      <th>3</th>\n      <td>2021-05-17</td>\n      <td>Monte Carlo transport analysis to assess inten...</td>\n      <td>Journal of Applied Physics</td>\n      <td>NaN</td>\n      <td>Milestone, W., Guo, D., Sanati, M., Dowling, K...</td>\n      <td>PCSS_2</td>\n      <td>https://doi.org/10.1063/5.0040173</td>\n      <td>PCSS</td>\n    </tr>\n    <tr>\n      <th>4</th>\n      <td>2021-05-05</td>\n      <td>Design and simulation of near-terahertz GaN ph...</td>\n      <td>IEEE Journal of Electron Devices Society</td>\n      <td>NaN</td>\n      <td>Rakheja, S. Li, K., Dowling, K.M., Conway, A.M...</td>\n      <td>PCSS_1</td>\n      <td>https://doi.org/10.1109/JEDS.2021.3077761</td>\n      <td>PCSS</td>\n    </tr>\n    <tr>\n      <th>5</th>\n      <td>2020-08-11</td>\n      <td>Low Offset and Noise in High Biased GaN 2DEG H...</td>\n      <td>IEEE Journal of Microelectromechanical Systems</td>\n      <td>NaN</td>\n      <td>Dowling, K.M., Liu, T., Alpert, H.S., Chapin, ...</td>\n      <td>Hall_5</td>\n      <td>https://doi.org/10.1109/JMEMS.2020.3013187</td>\n      <td>Hall</td>\n    </tr>\n    <tr>\n      <th>6</th>\n      <td>2020-01-29</td>\n      <td>Lithography and Etching?Free Microfabrication ...</td>\n      <td>Advanced Engineering Materials</td>\n      <td>NaN</td>\n      <td>Nguyen, T.-K., Phan, H.-P., Dowling, K.M., Yal...</td>\n      <td>LaserCut_5</td>\n      <td>https://doi.org/10.1002/adem.201901173</td>\n      <td>LaserCut</td>\n    </tr>\n    <tr>\n      <th>7</th>\n      <td>2020-02-13</td>\n      <td>Sensitivity of 2DEG-based Hall-effect sensors ...</td>\n      <td>Review of Scientific Instruments</td>\n      <td>NaN</td>\n      <td>Alpert, H.S., Chapin, C.A., Dowling, K.M., Ben...</td>\n      <td>Hall_4</td>\n      <td>https://doi.org/10.1063/1.5139911</td>\n      <td>Hall</td>\n    </tr>\n    <tr>\n      <th>8</th>\n      <td>2019-05-15</td>\n      <td>Significant Phonon Drag Enables High Power Fac...</td>\n      <td>ACS Nano Letters</td>\n      <td>NaN</td>\n      <td>Yalamarthy, A.S., Muñoz Rojo, M., Bruefach, A....</td>\n      <td>Thermo_1</td>\n      <td>https://doi.org/10.1021/acs.nanolett.9b00901</td>\n      <td>Thermo</td>\n    </tr>\n    <tr>\n      <th>9</th>\n      <td>2019-02-07</td>\n      <td>Micro-Tesla Offset in Thermally Stable AlGaN/G...</td>\n      <td>IEEE Sensors Letters</td>\n      <td>NaN</td>\n      <td>Dowling, K.M., Alpert, H.S., Yalamarthy, A.S.,...</td>\n      <td>Hall_3</td>\n      <td>https://doi.org/10.1109/LSENS.2019.2898157</td>\n      <td>Hall</td>\n    </tr>\n    <tr>\n      <th>10</th>\n      <td>2019-01-25</td>\n      <td>Effect of Geometry on Sensitivity and Offset o...</td>\n      <td>IEEE Sensors Journal</td>\n      <td>NaN</td>\n      <td>Alpert, H.S., Dowling, K.M., Chapin, C.A., Yal...</td>\n      <td>Hall_2</td>\n      <td>https://doi.org/10.1109/JSEN.2019.2895546</td>\n      <td>Hall</td>\n    </tr>\n    <tr>\n      <th>11</th>\n      <td>2018-08-24</td>\n      <td>Characterization of the piezoresistance in hig...</td>\n      <td>RSC Advances</td>\n      <td>NaN</td>\n      <td>Phan, H.-P., Dowling, K.M., Ngyuen, T.-K., Cha...</td>\n      <td>LaserCut_4</td>\n      <td>https://doi.org/10.1039/C8RA05797D</td>\n      <td>LaserCut</td>\n    </tr>\n    <tr>\n      <th>12</th>\n      <td>2018-07-10</td>\n      <td>Highly sensitive 4H-SiC pressure sensor at cry...</td>\n      <td>Materials &amp; Design</td>\n      <td>NaN</td>\n      <td>Ngyuyn, T.K., Phan, H.-P,, Dinh, T., Dowling, ...</td>\n      <td>LaserCut_3</td>\n      <td>https://doi.org/10.1016/j.matdes.2018.07.014</td>\n      <td>LaserCut</td>\n    </tr>\n    <tr>\n      <th>13</th>\n      <td>2018-06-19</td>\n      <td>Highly sensitive pressure sensors employing 3C...</td>\n      <td>Materials &amp; Design</td>\n      <td>NaN</td>\n      <td>Phan, H.-P., Dowling, K.M., Ngyuen, T.-K., Din...</td>\n      <td>LaserCut_2</td>\n      <td>https://doi.org/10.1016/j.matdes.2018.06.031</td>\n      <td>LaserCut</td>\n    </tr>\n    <tr>\n      <th>14</th>\n      <td>2017-12-11</td>\n      <td>Graphene-enhanced gallium nitride ultraviolet ...</td>\n      <td>Applied Physics Letters</td>\n      <td>NaN</td>\n      <td>Miller, R. A., So, H., Chiamori, H. C., Dowlin...</td>\n      <td>UVPhoto_1</td>\n      <td>https://doi.org/10.1063/1.5005797</td>\n      <td>UVPhoto</td>\n    </tr>\n    <tr>\n      <th>15</th>\n      <td>2017-03-28</td>\n      <td>Lithography-free microfabrication of AlGaN/GaN...</td>\n      <td>Microelectronic Engineering</td>\n      <td>NaN</td>\n      <td>Dowling, K.M., So, H., Toor, A., Chapin, C.A.,...</td>\n      <td>LaserCut_1</td>\n      <td>https://doi.org/10.1016/j.mee.2017.03.012</td>\n      <td>LaserCut</td>\n    </tr>\n    <tr>\n      <th>16</th>\n      <td>2017-06-22</td>\n      <td>InAlN/GaN high electron mobility micro-pressur...</td>\n      <td>Sensors and Actuators A: Physical</td>\n      <td>NaN</td>\n      <td>Chapin, C. A., Miller, R. A., Chen, R., Dowlin...</td>\n      <td>Pressure_1</td>\n      <td>https://doi.org/10.1016/j.sna.2017.06.009</td>\n      <td>Pressure</td>\n    </tr>\n    <tr>\n      <th>17</th>\n      <td>2016-11-08</td>\n      <td>Profile Evolution of High Aspect Ratio Silicon...</td>\n      <td>IEEE Journal of Microelectromechanical Systems</td>\n      <td>NaN</td>\n      <td>Dowling, K.M., Ransom, E.H., Senesky, D.G., “P...</td>\n      <td>SiCmachine_3</td>\n      <td>https://doi.org/10.1109/JMEMS.2016.2621131</td>\n      <td>SiCmachine</td>\n    </tr>\n    <tr>\n      <th>18</th>\n      <td>2018-05-29</td>\n      <td>Piezoelectric 2DEG \"Metal\" Electrodes for High...</td>\n      <td>Compound Semiconductor Week 2018</td>\n      <td>NaN</td>\n      <td>Yalamarthy, A.S., Miller, R.A., Dowling, K.M.,...</td>\n      <td>UVPhoto_2</td>\n      <td>NaN</td>\n      <td>UVPhoto</td>\n    </tr>\n    <tr>\n      <th>19</th>\n      <td>2020-10-05</td>\n      <td>Deployment of InAlN/GaN Hall-effect Sensors fo...</td>\n      <td>IEEE Sensors Conference 2020</td>\n      <td>NaN</td>\n      <td>Janowitz, J., Holliday, M., Dowling, K., Yeung...</td>\n      <td>Hall_6</td>\n      <td>https://doi.org/10.1109/SENSORS47125.2020.9278866</td>\n      <td>Hall</td>\n    </tr>\n    <tr>\n      <th>20</th>\n      <td>2018-06-03</td>\n      <td>The Effect of Bias Conditions on AlGaN/GaN 2DE...</td>\n      <td>Solid-State Sensors, Actuators and Microsystem...</td>\n      <td>NaN</td>\n      <td>Dowling, K.M, Alpert, H.S., Zhang, P., Ramirez...</td>\n      <td>Hall_1</td>\n      <td>NaN</td>\n      <td>Hall</td>\n    </tr>\n    <tr>\n      <th>21</th>\n      <td>2018-06-03</td>\n      <td>Temperature-Dependent Transient Behavior of Al...</td>\n      <td>Solid-State Sensors, Actuators and Microsystem...</td>\n      <td>NaN</td>\n      <td>Chapin, C.A., Dowling, K.M., Phan, H.P., Chen,...</td>\n      <td>Pressure_3</td>\n      <td>NaN</td>\n      <td>Pressure</td>\n    </tr>\n    <tr>\n      <th>22</th>\n      <td>2017-10-05</td>\n      <td>Rapid Prototyping Tape Stencils for the Applic...</td>\n      <td>International Symposium on Microelectronics Pa...</td>\n      <td>NaN</td>\n      <td>Yang, M.X., Dowling, K., Senesky, D., and Wong...</td>\n      <td>Package_1</td>\n      <td>NaN</td>\n      <td>Package</td>\n    </tr>\n    <tr>\n      <th>23</th>\n      <td>2017-06-18</td>\n      <td>Low Temperature and Pressure Response of INAlN...</td>\n      <td>IEEE Transducers Conference</td>\n      <td>NaN</td>\n      <td>Chapin, C., Miller, R., Chen, R., Dowling, K.,...</td>\n      <td>Pressure_2</td>\n      <td>https://doi.org/10.1109/TRANSDUCERS.2017.7994166</td>\n      <td>Pressure</td>\n    </tr>\n    <tr>\n      <th>24</th>\n      <td>2017-01-22</td>\n      <td>High-Throughput pulse laser manufacturing etch...</td>\n      <td>IEEE MEMS Conference</td>\n      <td>NaN</td>\n      <td>Ransom, E.H, Dowling, K.M., Rocca-Bejar, D., P...</td>\n      <td>SiCmachine_4</td>\n      <td>https://doi.org/10.1109/MEMSYS.2017.7863497</td>\n      <td>SiCmachine</td>\n    </tr>\n    <tr>\n      <th>25</th>\n      <td>2015-09-13</td>\n      <td>Low-Temperature Operation of Gallium Nitride B...</td>\n      <td>AIAA SPACE Conferences and Exposition</td>\n      <td>NaN</td>\n      <td>Miller, R., Chapin, C., Dowling, K., Chen, R.,...</td>\n      <td>UVPhoto_3</td>\n      <td>https://doi.org/10.2514/6.2016-5497</td>\n      <td>UVPhoto</td>\n    </tr>\n    <tr>\n      <th>26</th>\n      <td>2015-07-05</td>\n      <td>Inductive Coupled Plasma Etching of High Aspec...</td>\n      <td>InterpackICNMM2015</td>\n      <td>NaN</td>\n      <td>Dowling, K., Suria, A., Shankar, A., Lee, H., ...</td>\n      <td>Sicmachine_2</td>\n      <td>https://doi.org/10.1115/IPACK2015-48409</td>\n      <td>Sicmachine</td>\n    </tr>\n    <tr>\n      <th>27</th>\n      <td>2015-01-18</td>\n      <td>Multilayer Etch Masks for 3-Dimensional Fabric...</td>\n      <td>IEEE MEMS Conference</td>\n      <td>NaN</td>\n      <td>Dowling, K., Suria, A., Shankar, A., Chapin, C...</td>\n      <td>Sicmachine_1</td>\n      <td>https://doi.org/10.1109/MEMSYS.2015.7050944</td>\n      <td>Sicmachine</td>\n    </tr>\n    <tr>\n      <th>28</th>\n      <td>2013-01-20</td>\n      <td>High Sensitivity, High Density Micro-Hydraulic...</td>\n      <td>IEEE MEMS Conference</td>\n      <td>NaN</td>\n      <td>Sadeghi, M.M., Dowling, K, Peterson, R.L., Naj...</td>\n      <td>Tactile_1</td>\n      <td>https://doi.org/10.1109/MEMSYS.2013.6474332</td>\n      <td>Tactile</td>\n    </tr>\n  </tbody>\n</table>\n</div>"
          },
          "metadata": {}
        }
      ]
    },
    {
      "cell_type": "markdown",
      "source": "## Escape special characters\n\nYAML is very picky about how it takes a valid string, so we are replacing single and double quotes (and ampersands) with their HTML encoded equivilents. This makes them look not so readable in raw format, but they are parsed and rendered nicely.",
      "metadata": {}
    },
    {
      "cell_type": "code",
      "source": "html_escape_table = {\n    \"&\": \"&amp;\",\n    '\"': \"&quot;\",\n    \"'\": \"&apos;\"\n    }\n\ndef html_escape(text):\n    \"\"\"Produce entities within text.\"\"\"\n    return \"\".join(html_escape_table.get(c,c) for c in text)",
      "metadata": {
        "deletable": true,
        "editable": true,
        "trusted": true
      },
      "execution_count": 4,
      "outputs": []
    },
    {
      "cell_type": "markdown",
      "source": "## Creating the markdown files\n\nThis is where the heavy lifting is done. This loops through all the rows in the TSV dataframe, then starts to concatentate a big string (```md```) that contains the markdown for each type. It does the YAML metadata first, then does the description for the individual page.",
      "metadata": {}
    },
    {
      "cell_type": "code",
      "source": "import os\nfor row, item in publications.iterrows():\n    \n    md_filename = str(item.pub_date) + \"-\" + item.url_slug + \".md\"\n    html_filename = str(item.pub_date) + \"-\" + item.url_slug\n    year = item.pub_date[:4]\n    \n    ## YAML variables\n    \n    md = \"---\\ntitle: \\\"\"   + item.title + '\"\\n'\n    \n    md += \"\"\"collection: publications\"\"\"\n    \n    md += \"\"\"\\npermalink: /publication/\"\"\" + html_filename\n    \n    if len(str(item.excerpt)) > 5:\n        md += \"\\nexcerpt: '\" + html_escape(item.excerpt) + \"'\"\n    \n    md += \"\\ndate: \" + str(item.pub_date) \n    \n    md += \"\\nvenue: '\" + html_escape(item.venue) + \"'\"\n    \n    if len(str(item.paper_url)) > 5:\n        md += \"\\npaperurl: '\" + item.paper_url + \"'\"\n    \n    md += \"\\ncitation: '\" + html_escape(item.citation) + \"'\"\n    \n    if len(str(item.paper_url)) > 5:\n        md += \"\\nlink: '\" + item.paper_url + \"'\"\n    \n    md += \"\\ncategory: '\" + html_escape(item.category) + \"'\\n\"\n    \n    md += \"\\n---\"\n    \n    ## Markdown description for individual page\n        \n    if len(str(item.excerpt)) > 5:\n        md += \"\\n\" + html_escape(item.excerpt) + \"\\n\"\n    \n    md_filename = os.path.basename(md_filename)\n       \n    with open(\"../_publications/\" + md_filename, 'w') as f:\n        f.write(md)",
      "metadata": {
        "collapsed": false,
        "deletable": true,
        "editable": true,
        "jupyter": {
          "outputs_hidden": false
        },
        "trusted": true
      },
      "execution_count": 5,
      "outputs": []
    },
    {
      "cell_type": "markdown",
      "source": "These files are in the publications directory, one directory below where we're working from.",
      "metadata": {}
    },
    {
      "cell_type": "code",
      "source": "!ls ../_publications/",
      "metadata": {
        "collapsed": false,
        "deletable": true,
        "editable": true,
        "jupyter": {
          "outputs_hidden": false
        },
        "trusted": true
      },
      "execution_count": 6,
      "outputs": [
        {
          "ename": "<class 'AttributeError'>",
          "evalue": "module 'pexpect' has no attribute 'TIMEOUT'",
          "traceback": [
            "\u001b[0;31m---------------------------------------------------------------------------\u001b[0m",
            "\u001b[0;31mAttributeError\u001b[0m                            Traceback (most recent call last)",
            "Cell \u001b[0;32mIn [6], line 1\u001b[0m\n\u001b[0;32m----> 1\u001b[0m \u001b[43mget_ipython\u001b[49m\u001b[43m(\u001b[49m\u001b[43m)\u001b[49m\u001b[38;5;241;43m.\u001b[39;49m\u001b[43msystem\u001b[49m\u001b[43m(\u001b[49m\u001b[38;5;124;43m'\u001b[39;49m\u001b[38;5;124;43mls ../_publications/\u001b[39;49m\u001b[38;5;124;43m'\u001b[39;49m\u001b[43m)\u001b[49m\n",
            "File \u001b[0;32m/lib/python3.10/site-packages/IPython/core/interactiveshell.py:2466\u001b[0m, in \u001b[0;36mInteractiveShell.system_piped\u001b[0;34m(self, cmd)\u001b[0m\n\u001b[1;32m   2461\u001b[0m     \u001b[38;5;28;01mraise\u001b[39;00m \u001b[38;5;167;01mOSError\u001b[39;00m(\u001b[38;5;124m\"\u001b[39m\u001b[38;5;124mBackground processes not supported.\u001b[39m\u001b[38;5;124m\"\u001b[39m)\n\u001b[1;32m   2463\u001b[0m \u001b[38;5;66;03m# we explicitly do NOT return the subprocess status code, because\u001b[39;00m\n\u001b[1;32m   2464\u001b[0m \u001b[38;5;66;03m# a non-None value would trigger :func:`sys.displayhook` calls.\u001b[39;00m\n\u001b[1;32m   2465\u001b[0m \u001b[38;5;66;03m# Instead, we store the exit_code in user_ns.\u001b[39;00m\n\u001b[0;32m-> 2466\u001b[0m \u001b[38;5;28mself\u001b[39m\u001b[38;5;241m.\u001b[39muser_ns[\u001b[38;5;124m'\u001b[39m\u001b[38;5;124m_exit_code\u001b[39m\u001b[38;5;124m'\u001b[39m] \u001b[38;5;241m=\u001b[39m \u001b[43msystem\u001b[49m\u001b[43m(\u001b[49m\u001b[38;5;28;43mself\u001b[39;49m\u001b[38;5;241;43m.\u001b[39;49m\u001b[43mvar_expand\u001b[49m\u001b[43m(\u001b[49m\u001b[43mcmd\u001b[49m\u001b[43m,\u001b[49m\u001b[43m \u001b[49m\u001b[43mdepth\u001b[49m\u001b[38;5;241;43m=\u001b[39;49m\u001b[38;5;241;43m1\u001b[39;49m\u001b[43m)\u001b[49m\u001b[43m)\u001b[49m\n",
            "File \u001b[0;32m/lib/python3.10/site-packages/IPython/utils/_process_posix.py:129\u001b[0m, in \u001b[0;36mProcessHandler.system\u001b[0;34m(self, cmd)\u001b[0m\n\u001b[1;32m    125\u001b[0m enc \u001b[38;5;241m=\u001b[39m DEFAULT_ENCODING\n\u001b[1;32m    127\u001b[0m \u001b[38;5;66;03m# Patterns to match on the output, for pexpect.  We read input and\u001b[39;00m\n\u001b[1;32m    128\u001b[0m \u001b[38;5;66;03m# allow either a short timeout or EOF\u001b[39;00m\n\u001b[0;32m--> 129\u001b[0m patterns \u001b[38;5;241m=\u001b[39m [\u001b[43mpexpect\u001b[49m\u001b[38;5;241;43m.\u001b[39;49m\u001b[43mTIMEOUT\u001b[49m, pexpect\u001b[38;5;241m.\u001b[39mEOF]\n\u001b[1;32m    130\u001b[0m \u001b[38;5;66;03m# the index of the EOF pattern in the list.\u001b[39;00m\n\u001b[1;32m    131\u001b[0m \u001b[38;5;66;03m# even though we know it's 1, this call means we don't have to worry if\u001b[39;00m\n\u001b[1;32m    132\u001b[0m \u001b[38;5;66;03m# we change the above list, and forget to change this value:\u001b[39;00m\n\u001b[1;32m    133\u001b[0m EOF_index \u001b[38;5;241m=\u001b[39m patterns\u001b[38;5;241m.\u001b[39mindex(pexpect\u001b[38;5;241m.\u001b[39mEOF)\n",
            "\u001b[0;31mAttributeError\u001b[0m: module 'pexpect' has no attribute 'TIMEOUT'"
          ],
          "output_type": "error"
        }
      ]
    },
    {
      "cell_type": "code",
      "source": "!cat ../_publications/2009-10-01-paper-title-number-1.md",
      "metadata": {
        "collapsed": false,
        "deletable": true,
        "editable": true,
        "jupyter": {
          "outputs_hidden": false
        },
        "trusted": true
      },
      "execution_count": 7,
      "outputs": [
        {
          "ename": "<class 'AttributeError'>",
          "evalue": "module 'pexpect' has no attribute 'TIMEOUT'",
          "traceback": [
            "\u001b[0;31m---------------------------------------------------------------------------\u001b[0m",
            "\u001b[0;31mAttributeError\u001b[0m                            Traceback (most recent call last)",
            "Cell \u001b[0;32mIn [7], line 1\u001b[0m\n\u001b[0;32m----> 1\u001b[0m \u001b[43mget_ipython\u001b[49m\u001b[43m(\u001b[49m\u001b[43m)\u001b[49m\u001b[38;5;241;43m.\u001b[39;49m\u001b[43msystem\u001b[49m\u001b[43m(\u001b[49m\u001b[38;5;124;43m'\u001b[39;49m\u001b[38;5;124;43mcat ../_publications/2009-10-01-paper-title-number-1.md\u001b[39;49m\u001b[38;5;124;43m'\u001b[39;49m\u001b[43m)\u001b[49m\n",
            "File \u001b[0;32m/lib/python3.10/site-packages/IPython/core/interactiveshell.py:2466\u001b[0m, in \u001b[0;36mInteractiveShell.system_piped\u001b[0;34m(self, cmd)\u001b[0m\n\u001b[1;32m   2461\u001b[0m     \u001b[38;5;28;01mraise\u001b[39;00m \u001b[38;5;167;01mOSError\u001b[39;00m(\u001b[38;5;124m\"\u001b[39m\u001b[38;5;124mBackground processes not supported.\u001b[39m\u001b[38;5;124m\"\u001b[39m)\n\u001b[1;32m   2463\u001b[0m \u001b[38;5;66;03m# we explicitly do NOT return the subprocess status code, because\u001b[39;00m\n\u001b[1;32m   2464\u001b[0m \u001b[38;5;66;03m# a non-None value would trigger :func:`sys.displayhook` calls.\u001b[39;00m\n\u001b[1;32m   2465\u001b[0m \u001b[38;5;66;03m# Instead, we store the exit_code in user_ns.\u001b[39;00m\n\u001b[0;32m-> 2466\u001b[0m \u001b[38;5;28mself\u001b[39m\u001b[38;5;241m.\u001b[39muser_ns[\u001b[38;5;124m'\u001b[39m\u001b[38;5;124m_exit_code\u001b[39m\u001b[38;5;124m'\u001b[39m] \u001b[38;5;241m=\u001b[39m \u001b[43msystem\u001b[49m\u001b[43m(\u001b[49m\u001b[38;5;28;43mself\u001b[39;49m\u001b[38;5;241;43m.\u001b[39;49m\u001b[43mvar_expand\u001b[49m\u001b[43m(\u001b[49m\u001b[43mcmd\u001b[49m\u001b[43m,\u001b[49m\u001b[43m \u001b[49m\u001b[43mdepth\u001b[49m\u001b[38;5;241;43m=\u001b[39;49m\u001b[38;5;241;43m1\u001b[39;49m\u001b[43m)\u001b[49m\u001b[43m)\u001b[49m\n",
            "File \u001b[0;32m/lib/python3.10/site-packages/IPython/utils/_process_posix.py:129\u001b[0m, in \u001b[0;36mProcessHandler.system\u001b[0;34m(self, cmd)\u001b[0m\n\u001b[1;32m    125\u001b[0m enc \u001b[38;5;241m=\u001b[39m DEFAULT_ENCODING\n\u001b[1;32m    127\u001b[0m \u001b[38;5;66;03m# Patterns to match on the output, for pexpect.  We read input and\u001b[39;00m\n\u001b[1;32m    128\u001b[0m \u001b[38;5;66;03m# allow either a short timeout or EOF\u001b[39;00m\n\u001b[0;32m--> 129\u001b[0m patterns \u001b[38;5;241m=\u001b[39m [\u001b[43mpexpect\u001b[49m\u001b[38;5;241;43m.\u001b[39;49m\u001b[43mTIMEOUT\u001b[49m, pexpect\u001b[38;5;241m.\u001b[39mEOF]\n\u001b[1;32m    130\u001b[0m \u001b[38;5;66;03m# the index of the EOF pattern in the list.\u001b[39;00m\n\u001b[1;32m    131\u001b[0m \u001b[38;5;66;03m# even though we know it's 1, this call means we don't have to worry if\u001b[39;00m\n\u001b[1;32m    132\u001b[0m \u001b[38;5;66;03m# we change the above list, and forget to change this value:\u001b[39;00m\n\u001b[1;32m    133\u001b[0m EOF_index \u001b[38;5;241m=\u001b[39m patterns\u001b[38;5;241m.\u001b[39mindex(pexpect\u001b[38;5;241m.\u001b[39mEOF)\n",
            "\u001b[0;31mAttributeError\u001b[0m: module 'pexpect' has no attribute 'TIMEOUT'"
          ],
          "output_type": "error"
        }
      ]
    },
    {
      "cell_type": "code",
      "source": "",
      "metadata": {
        "collapsed": true,
        "deletable": true,
        "editable": true,
        "jupyter": {
          "outputs_hidden": true
        }
      },
      "execution_count": null,
      "outputs": []
    }
  ]
}